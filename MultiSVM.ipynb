{
 "cells": [
  {
   "cell_type": "markdown",
   "metadata": {},
   "source": [
    "# Roadmap\n",
    "- Vectorize loss/grad\n",
    "- Variable learning rate\n",
    "- Compare to Weston paper\n",
    "- Final code brush-up\n",
    "- Overleaf prepare\n",
    "- NTH: Kernel function"
   ]
  },
  {
   "cell_type": "markdown",
   "metadata": {},
   "source": [
    "# Importing Libraries"
   ]
  },
  {
   "cell_type": "code",
   "execution_count": 3,
   "metadata": {},
   "outputs": [],
   "source": [
    "import numpy as np\n",
    "import matplotlib.pyplot as plt\n",
    "from matplotlib.colors import LinearSegmentedColormap"
   ]
  },
  {
   "cell_type": "markdown",
   "metadata": {},
   "source": [
    "# Classifier"
   ]
  },
  {
   "cell_type": "code",
   "execution_count": 46,
   "metadata": {},
   "outputs": [],
   "source": [
    "class LinearSVM(object):\n",
    "    \n",
    "    def __init__(self, X, y, reg=1e-5, delta=1.0, learning_rate=1e-3, num_iters=100):\n",
    "        num_train, dim = X.shape\n",
    "        num_classes = len(np.unique(y))\n",
    "        \n",
    "        self.W = 0.001 * np.random.randn(dim, num_classes)\n",
    "        self.reg = reg\n",
    "        self.delta = delta\n",
    "        \n",
    "        for it in range(num_iters):\n",
    "            #train_indices = np.random.choice(num_train, 100) # stochastic gradient descent\n",
    "            self.W -= learning_rate * self.grad(X, Y)\n",
    "            if it % 100 == 0:\n",
    "                print(f'iteration {it} / {num_iters}: neo loss {self.loss(X, Y)}')\n",
    "    \n",
    "    def loss(self, X, Y):\n",
    "        # Data loss\n",
    "        data_loss = 0.0\n",
    "        for i in range(len(X)):\n",
    "            scores = self.W.dot(X[i])\n",
    "            correct_class_score = scores[Y[i]]\n",
    "            for j in range(len(self.W)):\n",
    "                if Y[i] != j:\n",
    "                    data_loss += max(0, scores[j] - correct_class_score + self.delta)\n",
    "        data_loss /= float(len(X))\n",
    "        # Total loss\n",
    "        return data_loss + self.reg * np.sum(self.W * self.W)\n",
    "\n",
    "    def grad(self, X, Y):\n",
    "        # Data loss\n",
    "        data_loss_gradient = np.zeros(self.W.shape)\n",
    "        for i in range(len(X)):\n",
    "            scores = self.W.dot(X[i])\n",
    "            correct_class_score = scores[Y[i]]\n",
    "            for j in range(len(self.W)):\n",
    "                if Y[i] != j:\n",
    "                    if scores[j] - correct_class_score + self.delta > 0:\n",
    "                        data_loss_gradient[j] += X[i]\n",
    "                        data_loss_gradient[Y[i]] -= X[i]\n",
    "        data_loss_gradient /= float(len(X))\n",
    "        # Total loss\n",
    "        return data_loss_gradient + self.reg * (2 * self.W)\n",
    "    \n",
    "    def predict(self, X):\n",
    "        scores = self.W.dot(X.T).T\n",
    "        return np.argmax(scores, axis=1)\n",
    "    \n",
    "    #def svm_loss_vectorized(self, W, X, y, reg):\n",
    "        #loss = 0.0\n",
    "        #dW = np.zeros(W.shape)\n",
    "        #num_train = X.shape[0]\n",
    "\n",
    "        #s = X.dot(W)\n",
    "\n",
    "        #Getting the correct scores\n",
    "        #correct_score = s[list(range(num_train)),y]\n",
    "        #correct_score = correct_score.reshape(num_train,-1)\n",
    "\n",
    "        #Now adding the margin and subtracting the scores\n",
    "        # sj - syi +1\n",
    "        #s += 1-correct_score\n",
    "\n",
    "        #Making all the correct scores to zero as we find the max value in the loss, and the correct scores\n",
    "        #don't contribute to the loss function.\n",
    "        #s[list(range(num_train)),y] = 0\n",
    "        #loss = np.sum(np.fmax(s,0))/num_train\n",
    "\n",
    "        #adding the L2 regularization term\n",
    "        #loss += reg * np.sum(W * W)\n",
    "\n",
    "        #Now calculating the gradient.\n",
    "        #X_mask = np.zeros(s.shape) #Binarize the margins.\n",
    "        #X_mask[ s > 0] = 1 \n",
    "        #X_mask[np.arange(num_train),y] = -np.sum(X_mask,axis = 1)\n",
    "        #dW = X.T.dot(X_mask)\n",
    "        #dW = dW / num_train\n",
    "\n",
    "        #Left with only the regularization term.\n",
    "        #dW += 2 * reg * W \n",
    "\n",
    "        #return loss, dW"
   ]
  },
  {
   "cell_type": "markdown",
   "metadata": {},
   "source": [
    "# Sampling"
   ]
  },
  {
   "cell_type": "code",
   "execution_count": 5,
   "metadata": {},
   "outputs": [
    {
     "data": {
      "image/png": "[encoded data removed]",
      "text/plain": [
       "<Figure size 432x288 with 1 Axes>"
      ]
     },
     "metadata": {
      "needs_background": "light"
     },
     "output_type": "display_data"
    }
   ],
   "source": [
    "# Parameters\n",
    "N_1 = 200\n",
    "MU_1 = [2.0, -0.1]\n",
    "SIGMA_1 = np.eye(2) * 0.1\n",
    "N_2 = 200\n",
    "MU_2 = [-2.0, -1.0]\n",
    "SIGMA_2 = np.eye(2) * 0.1\n",
    "N_3 = 200\n",
    "MU_3 = [0.75, -4.0]\n",
    "SIGMA_3 = np.eye(2) * 0.1\n",
    "\n",
    "# Sample\n",
    "X_1 = np.random.multivariate_normal(MU_1, SIGMA_1, N_1)\n",
    "X_2 = np.random.multivariate_normal(MU_2, SIGMA_2, N_2)\n",
    "X_3 = np.random.multivariate_normal(MU_3, SIGMA_3, N_3)\n",
    "\n",
    "# Unify\n",
    "X = np.vstack( (X_1, X_2, X_3) )\n",
    "Y = np.array([0]*N_1 + [1]*N_2 + [2]*N_3)\n",
    "\n",
    "# Append bias\n",
    "X = np.hstack( (X, np.ones((X.shape[0], 1))) )\n",
    "\n",
    "# Invariants\n",
    "assert(len(X) == len(Y))\n",
    "assert(X.shape[1] == 3)\n",
    "\n",
    "# Plot\n",
    "plt.scatter(X_1[:,0], X_1[:,1], c='tab:blue')\n",
    "plt.scatter(X_2[:,0], X_2[:,1], c='tab:orange')\n",
    "plt.scatter(X_3[:,0], X_3[:,1], c='tab:green')\n",
    "plt.show()"
   ]
  },
  {
   "cell_type": "markdown",
   "metadata": {},
   "source": [
    "# Training"
   ]
  },
  {
   "cell_type": "code",
   "execution_count": 47,
   "metadata": {},
   "outputs": [
    {
     "name": "stdout",
     "output_type": "stream",
     "text": [
      "iteration 0 / 500: neo loss 2.4874770835661737\n",
      "iteration 100 / 500: neo loss 2.0652401662083615\n",
      "iteration 200 / 500: neo loss 2.0086690013077337\n",
      "iteration 300 / 500: neo loss 2.001089615028005\n",
      "iteration 400 / 500: neo loss 2.000074131318632\n"
     ]
    }
   ],
   "source": [
    "svm = LinearSVM(X, Y, learning_rate=1e-7, reg=5e4, num_iters=500)"
   ]
  },
  {
   "cell_type": "markdown",
   "metadata": {},
   "source": [
    "# Prediction"
   ]
  },
  {
   "cell_type": "code",
   "execution_count": 48,
   "metadata": {},
   "outputs": [
    {
     "data": {
      "image/png": "[encoded data removed]",
      "text/plain": [
       "<Figure size 432x288 with 1 Axes>"
      ]
     },
     "metadata": {
      "needs_background": "light"
     },
     "output_type": "display_data"
    }
   ],
   "source": [
    "nx = 50\n",
    "ny = 50\n",
    "\n",
    "xx, yy = np.meshgrid(np.linspace(X[:,0].min() - 1, X[:,0].max() + 1, nx),\n",
    "                     np.linspace(X[:,1].min() - 1, X[:,1].max() + 1, ny))\n",
    "\n",
    "X_pred = np.hstack((xx.reshape((-1, 1)), yy.reshape((-1, 1)), np.ones((nx*ny, 1))))\n",
    "Y_pred = svm.predict(X_pred)\n",
    "\n",
    "cm = LinearSegmentedColormap.from_list('multi-classify', [(0.8,0.8,1), (1,0.9,0.8), (0.8, 1, 0.8)])\n",
    "\n",
    "plt.contourf(xx, yy, Y_pred.reshape((ny, nx)), cmap=cm)\n",
    "plt.scatter(X_1[:,0], X_1[:,1], c='tab:blue')\n",
    "plt.scatter(X_2[:,0], X_2[:,1], c='tab:orange')\n",
    "plt.scatter(X_3[:,0], X_3[:,1], c='tab:green')\n",
    "plt.show()"
   ]
  }
 ],
 "metadata": {
  "kernelspec": {
   "display_name": "Python 3",
   "language": "python",
   "name": "python3"
  },
  "language_info": {
   "codemirror_mode": {
    "name": "ipython",
    "version": 3
   },
   "file_extension": ".py",
   "mimetype": "text/x-python",
   "name": "python",
   "nbconvert_exporter": "python",
   "pygments_lexer": "ipython3",
   "version": "3.6.9"
  }
 },
 "nbformat": 4,
 "nbformat_minor": 2
}
