{
 "cells": [
  {
   "cell_type": "code",
   "execution_count": 62,
   "metadata": {},
   "outputs": [],
   "source": [
    "import math\n",
    "\n",
    "import numpy as np\n",
    "from numpy import array, dot\n",
    "\n",
    "import matplotlib.pyplot as plt\n",
    "\n",
    "import cvxopt\n",
    "from cvxopt import matrix\n",
    "\n",
    "# CVXOPT wrapper\n",
    "# Credit: https://scaron.info/blog/quadratic-programming-in-python.html\n",
    "\n",
    "# solves:\n",
    "#   minimize    0.5 x^t P x + q^t x\n",
    "#   subject to  G x <= h\n",
    "#               A x = b\n",
    "\n",
    "def cvxopt_solve_qp(P, q, G=None, h=None, A=None, b=None):\n",
    "    P = P.astype(float)\n",
    "    q = q.astype(float)\n",
    "    P = .5 * (P + P.T)  # make sure P is symmetric\n",
    "    args = [matrix(P), matrix(q)]\n",
    "    if G is not None:\n",
    "        G = G.astype(float)\n",
    "        h = h.astype(float)\n",
    "        args.extend([matrix(G), matrix(h)])\n",
    "        if A is not None:\n",
    "            A = A.astype(float)\n",
    "            b = b.astype(float)\n",
    "            args.extend([matrix(A), matrix(b)])\n",
    "    sol = cvxopt.solvers.qp(*args)\n",
    "    if 'optimal' not in sol['status']:\n",
    "        return None\n",
    "    return array(sol['x']).reshape((P.shape[1],))"
   ]
  },
  {
   "cell_type": "code",
   "execution_count": 139,
   "metadata": {},
   "outputs": [
    {
     "name": "stdout",
     "output_type": "stream",
     "text": [
      "     pcost       dcost       gap    pres   dres\n",
      " 0: -1.0062e+01 -8.2131e+00  3e+00  8e-01  2e-16\n",
      " 1: -8.9877e+00 -7.1656e+00  6e-01  3e-01  2e-16\n",
      " 2: -4.7428e+00 -5.6786e+00  9e-01  9e-17  5e-16\n",
      " 3: -5.5832e+00 -5.5940e+00  1e-02  5e-17  1e-16\n",
      " 4: -5.5921e+00 -5.5922e+00  1e-04  8e-17  2e-16\n",
      " 5: -5.5922e+00 -5.5922e+00  1e-06  9e-17  2e-16\n",
      "Optimal solution found.\n",
      "Solution is correct.\n"
     ]
    }
   ],
   "source": [
    "# CVXOPT test\n",
    "M = array([[1., 2., 0.], [-8., 3., 2.], [0., 1., 1.]])\n",
    "P = dot(M.T, M)\n",
    "q = -dot(M.T, array([3., 2., 3.]))\n",
    "G = array([[1., 2., 1.], [2., 0., 1.], [-1., 2., -1.]])\n",
    "h = array([3., 2., -2.]).reshape((3,))\n",
    "\n",
    "arr = cvxopt_solve_qp(P, q, G, h)\n",
    "\n",
    "EPS = 1e-3\n",
    "assert math.isclose(arr[0], 0.12997347, rel_tol=EPS)\n",
    "assert math.isclose(arr[1], -0.06498674, rel_tol=EPS)\n",
    "assert math.isclose(arr[2], 1.74005305, rel_tol=EPS)\n",
    "\n",
    "print(\"Solution is correct.\")"
   ]
  },
  {
   "cell_type": "code",
   "execution_count": 160,
   "metadata": {},
   "outputs": [
    {
     "data": {
      "image/png": "[encoded data removed]",
      "text/plain": [
       "<Figure size 432x288 with 1 Axes>"
      ]
     },
     "metadata": {
      "needs_background": "light"
     },
     "output_type": "display_data"
    }
   ],
   "source": [
    "# SAMPLING\n",
    "\n",
    "# Class 1\n",
    "N_1 = 50\n",
    "MU_1 = [2.0, -0.1]\n",
    "SIGMA_1 = [[0.1, 0.0],\n",
    "           [0.0, 0.1]]\n",
    "X_1 = np.random.multivariate_normal(MU_1, SIGMA_1, N_1)\n",
    "\n",
    "# Class 2\n",
    "N_2 = 50\n",
    "MU_2 = [-1.0, -1.0]\n",
    "SIGMA_2 = [[0.1, 0.0],\n",
    "           [0.0, 0.1]]\n",
    "X_2 = np.random.multivariate_normal(MU_2, SIGMA_2, N_2)\n",
    "\n",
    "# Unify\n",
    "X = np.vstack( (X_1, X_2) )\n",
    "Y = np.array([1] * N_1 + [-1] * N_2)\n",
    "N = len(X)\n",
    "\n",
    "# Plot\n",
    "plt.scatter(X_1[:,0], X_1[:,1])\n",
    "plt.scatter(X_2[:,0], X_2[:,1])\n",
    "plt.show()"
   ]
  },
  {
   "cell_type": "code",
   "execution_count": 161,
   "metadata": {},
   "outputs": [
    {
     "name": "stdout",
     "output_type": "stream",
     "text": [
      "     pcost       dcost       gap    pres   dres\n",
      " 0: -3.9196e+00 -6.4641e+00  2e+02  1e+01  2e+00\n",
      " 1: -1.0805e+00 -1.4041e+00  1e+01  7e-01  7e-02\n",
      " 2: -1.9658e-01 -1.0458e+00  8e-01  3e-16  8e-16\n",
      " 3: -4.9425e-01 -6.9550e-01  2e-01  3e-16  6e-16\n",
      " 4: -6.5032e-01 -6.8948e-01  4e-02  1e-16  4e-16\n",
      " 5: -6.8220e-01 -6.8266e-01  5e-04  8e-17  5e-16\n",
      " 6: -6.8257e-01 -6.8258e-01  5e-06  2e-16  5e-16\n",
      " 7: -6.8258e-01 -6.8258e-01  5e-08  3e-16  5e-16\n",
      "Optimal solution found.\n"
     ]
    }
   ],
   "source": [
    "# SVM\n",
    "# https://youtu.be/eHsErlPJWUU?t=2583\n",
    "\n",
    "#   minimize    0.5 x^t P x + q^t x\n",
    "#   subject to  G x <= h\n",
    "#               A x = b\n",
    "\n",
    "P = np.zeros( (N, N) )\n",
    "for i in range(N):\n",
    "    for j in range(N):\n",
    "        P[i,j] = Y[i] * Y[j] * np.dot(X[i], X[j])\n",
    "\n",
    "q = np.full(N, -1.)\n",
    "\n",
    "A = Y.copy().reshape( (1, 100) )\n",
    "b = np.zeros( (1, 1) )\n",
    "\n",
    "G = -np.eye(N)\n",
    "h = np.zeros(N)\n",
    "\n",
    "h.shape\n",
    "\n",
    "alpha = cvxopt_solve_qp(P, q, G, h, A, b)\n",
    "#matrix(A.astype(float))"
   ]
  },
  {
   "cell_type": "code",
   "execution_count": 162,
   "metadata": {},
   "outputs": [],
   "source": [
    "# Get \n",
    "w = np.zeros(2)\n",
    "for i in range(N):\n",
    "    w += alpha[i] * Y[i] * X[i]\n",
    "\n",
    "support_vectors_idx = np.argwhere(alpha > 1e-3).ravel()\n",
    "\n",
    "sv_idx = support_vectors_idx[0]\n",
    "b = Y[sv_idx] - np.dot(w.T, X[sv_idx])"
   ]
  },
  {
   "cell_type": "code",
   "execution_count": 163,
   "metadata": {},
   "outputs": [
    {
     "data": {
      "image/png": "[encoded data removed]",
      "text/plain": [
       "<Figure size 432x288 with 1 Axes>"
      ]
     },
     "metadata": {
      "needs_background": "light"
     },
     "output_type": "display_data"
    }
   ],
   "source": [
    "# Plot\n",
    "# https://stackoverflow.com/questions/19054923/plot-decision-boundary-matplotlib\n",
    "\n",
    "nx = 100\n",
    "ny = 100\n",
    "\n",
    "xx, yy = np.meshgrid(np.linspace(-2, 2, nx), np.linspace(-2, 2, ny))\n",
    "\n",
    "Z = np.empty(xx.shape)\n",
    "for iy in range(ny):\n",
    "    for ix in range(nx):\n",
    "        x = xx[iy, ix]\n",
    "        y = yy[iy, ix]\n",
    "        decision_func = x * w[0] + y * w[1] + b\n",
    "        Z[iy, ix] = 2 if decision_func >= 0 else 1\n",
    "\n",
    "plt.contourf(xx, yy, Z)\n",
    "plt.scatter(X_1[:,0], X_1[:,1])\n",
    "plt.scatter(X_2[:,0], X_2[:,1])\n",
    "plt.show()"
   ]
  }
 ],
 "metadata": {
  "kernelspec": {
   "display_name": "Python 3",
   "language": "python",
   "name": "python3"
  },
  "language_info": {
   "codemirror_mode": {
    "name": "ipython",
    "version": 3
   },
   "file_extension": ".py",
   "mimetype": "text/x-python",
   "name": "python",
   "nbconvert_exporter": "python",
   "pygments_lexer": "ipython3",
   "version": "3.6.9"
  }
 },
 "nbformat": 4,
 "nbformat_minor": 2
}
