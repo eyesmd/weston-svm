{
 "cells": [
  {
   "cell_type": "code",
   "execution_count": 1,
   "metadata": {},
   "outputs": [],
   "source": [
    "import numpy as np\n",
    "import matplotlib.pyplot as plt\n",
    "from matplotlib.colors import LinearSegmentedColormap\n",
    "\n",
    "%run -i helpers.py"
   ]
  },
  {
   "cell_type": "code",
   "execution_count": 109,
   "metadata": {},
   "outputs": [],
   "source": [
    "# SVM\n",
    "# ---\n",
    "\n",
    "def loss(x, y, C, w):\n",
    "    return 0.5 * np.dot(w, w) + C * sum( max(0, 1 - y[i] * np.dot(w, x[i])) for i in range(len(x)) )\n",
    "\n",
    "def SVM(x, y, c, learning_rate, iters):\n",
    "    \n",
    "    n = len(x)\n",
    "    \n",
    "    x = np.array([ np.hstack( (x[i], [-1]) ) for i in range(n) ])\n",
    "    \n",
    "    w = 0.001 * np.random.randn(3)\n",
    "    \n",
    "    for _ in range(iters):\n",
    "        # Print loss\n",
    "        #print(loss(x, y, c, w))\n",
    "        # Calculate gradient\n",
    "        gradient = np.zeros(3)\n",
    "        for i in range(n):\n",
    "            violation = 1 - y[i] * np.dot(w, x[i]) > 0\n",
    "            if violation:\n",
    "                gradient -= y[i] * x[i]\n",
    "        gradient *= c\n",
    "        gradient += w\n",
    "        # Descend\n",
    "        w -= learning_rate * gradient\n",
    "    \n",
    "    print(\"W given by gradient descent: \", w)\n",
    "    print(\" loss = \", loss(x, y, c, w))\n",
    "    \n",
    "    return w"
   ]
  },
  {
   "cell_type": "code",
   "execution_count": 103,
   "metadata": {},
   "outputs": [
    {
     "data": {
      "image/png": "[encoded data removed]",
      "text/plain": [
       "<Figure size 432x288 with 1 Axes>"
      ]
     },
     "metadata": {
      "needs_background": "light"
     },
     "output_type": "display_data"
    }
   ],
   "source": [
    "# SAMPLING\n",
    "# --------\n",
    "\n",
    "# Parameters\n",
    "DISPLACEMENT = np.array([8, 0])\n",
    "DISPERSE = 8\n",
    "\n",
    "N_1 = 50\n",
    "MU_1 = [2.0, -0.1] + DISPLACEMENT\n",
    "SIGMA_1 = np.array([[0.1, 0.0],\n",
    "                   [0.0, 0.1]]) * DISPERSE\n",
    "N_2 = 50\n",
    "MU_2 = [-1.0, -1.0] + DISPLACEMENT\n",
    "SIGMA_2 = np.array([[0.1, 0.0],\n",
    "                    [0.0, 0.1]]) * DISPERSE\n",
    "\n",
    "# Sample\n",
    "X_1 = np.random.multivariate_normal(MU_1, SIGMA_1, N_1)\n",
    "X_2 = np.random.multivariate_normal(MU_2, SIGMA_2, N_2)\n",
    "\n",
    "# Unify\n",
    "X = np.vstack( (X_1, X_2) )\n",
    "Y = np.array([1] * N_1 + [-1] * N_2)\n",
    "\n",
    "# Plot\n",
    "plt.scatter(X_1[:,0], X_1[:,1], c='tab:blue')\n",
    "plt.scatter(X_2[:,0], X_2[:,1], c='tab:orange')\n",
    "plt.show()"
   ]
  },
  {
   "cell_type": "code",
   "execution_count": 115,
   "metadata": {},
   "outputs": [
    {
     "name": "stdout",
     "output_type": "stream",
     "text": [
      "W given by gradient descent:  [0.58118969 0.28701981 4.76304559]\n",
      " loss =  41.21214272193551\n"
     ]
    },
    {
     "data": {
      "image/png": "[encoded data removed]",
      "text/plain": [
       "<Figure size 432x288 with 1 Axes>"
      ]
     },
     "metadata": {
      "needs_background": "light"
     },
     "output_type": "display_data"
    }
   ],
   "source": [
    "# RUN\n",
    "# ---\n",
    "\n",
    "C = 1    \n",
    "LEARNING_RATE = 0.001\n",
    "ITERS = 100\n",
    "\n",
    "w = SVM(X, Y, C, LEARNING_RATE, ITERS)\n",
    "#w = ([ 1., 0., 8. ])\n",
    "nx = 500\n",
    "ny = 500\n",
    "\n",
    "xx, yy = np.meshgrid(np.linspace(X[:,0].min() - 1, X[:,0].max() + 1, nx),\n",
    "                     np.linspace(X[:,1].min() - 1, X[:,1].max() + 1, ny))\n",
    "Z = np.empty(xx.shape)\n",
    "for iy in range(ny):\n",
    "    for ix in range(nx):\n",
    "        xxx = xx[iy, ix]\n",
    "        yyy = yy[iy, ix]\n",
    "        decision_func = xxx * w[0] + yyy * w[1] - w[2]\n",
    "        Z[iy, ix] = 2 if decision_func >= 0 else 1\n",
    "\n",
    "cm = LinearSegmentedColormap.from_list('binary', [(1,0.9,0.8), (0.8,0.8,1)])\n",
    "\n",
    "plt.contourf(xx, yy, Z, cmap=cm)\n",
    "plt.scatter(X_1[:,0], X_1[:,1], c='tab:blue')\n",
    "plt.scatter(X_2[:,0], X_2[:,1], c='tab:orange')\n",
    "plt.show()"
   ]
  },
  {
   "cell_type": "code",
   "execution_count": 108,
   "metadata": {},
   "outputs": [
    {
     "data": {
      "text/plain": [
       "56.94575411544968"
      ]
     },
     "execution_count": 108,
     "metadata": {},
     "output_type": "execute_result"
    }
   ],
   "source": [
    "w_mejor = np.array\n",
    "x2 = np.array([ np.hstack( (X[i], [-1]) ) for i in range(len(X)) ])\n",
    "loss(x2, Y, C, w_mejor)\n"
   ]
  }
 ],
 "metadata": {
  "kernelspec": {
   "display_name": "Python 3",
   "language": "python",
   "name": "python3"
  },
  "language_info": {
   "codemirror_mode": {
    "name": "ipython",
    "version": 3
   },
   "file_extension": ".py",
   "mimetype": "text/x-python",
   "name": "python",
   "nbconvert_exporter": "python",
   "pygments_lexer": "ipython3",
   "version": "3.6.9"
  }
 },
 "nbformat": 4,
 "nbformat_minor": 2
}
