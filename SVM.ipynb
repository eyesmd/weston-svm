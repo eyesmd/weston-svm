{
 "cells": [
  {
   "cell_type": "code",
   "execution_count": 54,
   "metadata": {},
   "outputs": [],
   "source": [
    "import math\n",
    "import numpy as np\n",
    "import matplotlib.pyplot as plt\n",
    "from matplotlib.colors import LinearSegmentedColormap\n",
    "\n",
    "%run -i helpers.py"
   ]
  },
  {
   "cell_type": "code",
   "execution_count": 55,
   "metadata": {},
   "outputs": [],
   "source": [
    "# SVM\n",
    "# ---\n",
    "\n",
    "def SVM(x, y):\n",
    "    \n",
    "    n = len(x)\n",
    "    \n",
    "    # Objective function (0.5 x^t P x + q^t x)\n",
    "    P = np.zeros( (n, n) )\n",
    "    for i in range(n):\n",
    "        for j in range(n):\n",
    "            P[i,j] = y[i] * y[j] * np.dot(x[i], x[j])\n",
    "    q = np.full(n, -1.)\n",
    "\n",
    "    # Equality constraint (A x = b)\n",
    "    A = y.copy().reshape( (1, 100) )\n",
    "    b = np.zeros( (1, 1) )\n",
    "\n",
    "    # Inequality constraint (G x <= b)\n",
    "    G = -np.eye(n)\n",
    "    h = np.zeros(n)\n",
    "    \n",
    "    # Solve for 'alpha's (Quadratic programming)\n",
    "    alpha = cvxopt_solve_qp(P, q, G, h, A, b)\n",
    "    \n",
    "    # Solve for 'w'\n",
    "    w = np.zeros(2)\n",
    "    for i in range(n):\n",
    "        w += alpha[i] * y[i] * x[i]\n",
    "\n",
    "    # Solve for 'b'\n",
    "    support_vectors_idx = np.argwhere(alpha > 1e-3).ravel()\n",
    "    sv_idx = support_vectors_idx[0]\n",
    "    b = y[sv_idx] - np.dot(w.T, x[sv_idx])\n",
    "    \n",
    "    return alpha, w, b"
   ]
  },
  {
   "cell_type": "code",
   "execution_count": 56,
   "metadata": {},
   "outputs": [
    {
     "data": {
      "image/png": "[encoded data removed]",
      "text/plain": [
       "<Figure size 432x288 with 1 Axes>"
      ]
     },
     "metadata": {
      "needs_background": "light"
     },
     "output_type": "display_data"
    }
   ],
   "source": [
    "# SAMPLING\n",
    "# --------\n",
    "\n",
    "# Parameters\n",
    "N_1 = 50\n",
    "MU_1 = [2.0, -0.1]\n",
    "SIGMA_1 = [[0.1, 0.0],\n",
    "           [0.0, 0.1]]\n",
    "N_2 = 50\n",
    "MU_2 = [-1.0, -1.0]\n",
    "SIGMA_2 = [[0.1, 0.0],\n",
    "           [0.0, 0.1]]\n",
    "\n",
    "# Sample\n",
    "X_1 = np.random.multivariate_normal(MU_1, SIGMA_1, N_1)\n",
    "X_2 = np.random.multivariate_normal(MU_2, SIGMA_2, N_2)\n",
    "\n",
    "# Unify\n",
    "X = np.vstack( (X_1, X_2) )\n",
    "Y = np.array([1] * N_1 + [-1] * N_2)\n",
    "\n",
    "# Plot\n",
    "plt.scatter(X_1[:,0], X_1[:,1], c='tab:blue')\n",
    "plt.scatter(X_2[:,0], X_2[:,1], c='tab:orange')\n",
    "plt.show()"
   ]
  },
  {
   "cell_type": "code",
   "execution_count": 57,
   "metadata": {},
   "outputs": [
    {
     "name": "stdout",
     "output_type": "stream",
     "text": [
      "     pcost       dcost       gap    pres   dres\n",
      " 0: -4.7512e+00 -8.0022e+00  2e+02  1e+01  2e+00\n",
      " 1: -2.1320e+00 -1.6981e+00  2e+01  1e+00  1e-01\n",
      " 2: -1.4654e-01 -1.2285e+00  1e+00  5e-16  1e-15\n",
      " 3: -4.4919e-01 -7.2853e-01  3e-01  4e-16  6e-16\n",
      " 4: -5.4083e-01 -7.4184e-01  2e-01  4e-16  4e-16\n",
      " 5: -6.9889e-01 -7.1685e-01  2e-02  3e-16  5e-16\n",
      " 6: -7.1123e-01 -7.1143e-01  2e-04  2e-16  6e-16\n",
      " 7: -7.1138e-01 -7.1138e-01  2e-06  2e-16  6e-16\n",
      " 8: -7.1138e-01 -7.1138e-01  2e-08  2e-16  5e-16\n",
      "Optimal solution found.\n"
     ]
    },
    {
     "data": {
      "image/png": "[encoded data removed]",
      "text/plain": [
       "<Figure size 432x288 with 1 Axes>"
      ]
     },
     "metadata": {
      "needs_background": "light"
     },
     "output_type": "display_data"
    }
   ],
   "source": [
    "# RUN\n",
    "# ---\n",
    "\n",
    "alpha, w, b = SVM(X, Y)\n",
    "\n",
    "nx = 500\n",
    "ny = 500\n",
    "\n",
    "xx, yy = np.meshgrid(np.linspace(X[:,0].min() - 1, X[:,0].max() + 1, nx),\n",
    "                     np.linspace(X[:,1].min() - 1, X[:,1].max() + 1, ny))\n",
    "Z = np.empty(xx.shape)\n",
    "for iy in range(ny):\n",
    "    for ix in range(nx):\n",
    "        x = xx[iy, ix]\n",
    "        y = yy[iy, ix]\n",
    "        decision_func = x * w[0] + y * w[1] + b\n",
    "        Z[iy, ix] = 2 if decision_func >= 0 else 1\n",
    "\n",
    "cm = LinearSegmentedColormap.from_list('binary', [(1,0.9,0.8), (0.8,0.8,1)])\n",
    "\n",
    "plt.contourf(xx, yy, Z, cmap=cm)\n",
    "plt.scatter(X_1[:,0], X_1[:,1], c='tab:blue')\n",
    "plt.scatter(X_2[:,0], X_2[:,1], c='tab:orange')\n",
    "plt.show()"
   ]
  }
 ],
 "metadata": {
  "kernelspec": {
   "display_name": "Python 3",
   "language": "python",
   "name": "python3"
  },
  "language_info": {
   "codemirror_mode": {
    "name": "ipython",
    "version": 3
   },
   "file_extension": ".py",
   "mimetype": "text/x-python",
   "name": "python",
   "nbconvert_exporter": "python",
   "pygments_lexer": "ipython3",
   "version": "3.6.9"
  }
 },
 "nbformat": 4,
 "nbformat_minor": 2
}
